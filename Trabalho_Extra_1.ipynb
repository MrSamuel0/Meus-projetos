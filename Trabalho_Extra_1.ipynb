{
  "nbformat": 4,
  "nbformat_minor": 0,
  "metadata": {
    "colab": {
      "provenance": [],
      "include_colab_link": true
    },
    "kernelspec": {
      "name": "python3",
      "display_name": "Python 3"
    }
  },
  "cells": [
    {
      "cell_type": "markdown",
      "metadata": {
        "id": "view-in-github",
        "colab_type": "text"
      },
      "source": [
        "<a href=\"https://colab.research.google.com/github/MrSamuel0/Meus-projetos/blob/main/Trabalho_Extra_1.ipynb\" target=\"_parent\"><img src=\"https://colab.research.google.com/assets/colab-badge.svg\" alt=\"Open In Colab\"/></a>"
      ]
    },
    {
      "cell_type": "markdown",
      "metadata": {
        "id": "G90zxY79qIXe"
      },
      "source": [
        "\n",
        "<html>\n",
        "  <body>\n",
        "    <header></header>\n",
        "        <CENTER>\n",
        "          <img src=\"https://uvv.br/wp-content/themes/uvvBr/templates/assets//img/logouvv.svg\" alt=\"UVV-LOGO\" style = width=\"100px\"; height=\"100px\">\n",
        "        </CENTER>\n",
        "        <CENTER><b>LABORATÓRIO DE PROGRAMAÇAO - PYTHON</b></CENTER>\n",
        "        <CENTER><b>ATIVIDADE EXTRA</b></CENTER>"
      ]
    },
    {
      "cell_type": "markdown",
      "source": [
        "MEU LINK COLAB: [Link](https://colab.research.google.com/drive/1_KKFF0nPavONttXHg0tu8B9BfOMC4JB7?usp=sharing)"
      ],
      "metadata": {
        "id": "VGKo5hTSCMcA"
      }
    },
    {
      "cell_type": "markdown",
      "metadata": {
        "id": "CWZ7nYLvZjR8"
      },
      "source": [
        "# LETRA ?:"
      ]
    },
    {
      "cell_type": "code",
      "source": [],
      "metadata": {
        "id": "ekCLKHdxajvB"
      },
      "execution_count": null,
      "outputs": []
    },
    {
      "cell_type": "markdown",
      "metadata": {
        "id": "stTvYgS0Z1_e"
      },
      "source": [
        "# LETRA ?:"
      ]
    },
    {
      "cell_type": "code",
      "metadata": {
        "id": "I0jBku9KZ0sk"
      },
      "source": [],
      "execution_count": null,
      "outputs": []
    },
    {
      "cell_type": "markdown",
      "source": [
        "# LETRA ?:"
      ],
      "metadata": {
        "id": "B-d-ZkxwannI"
      }
    },
    {
      "cell_type": "code",
      "source": [],
      "metadata": {
        "id": "HchpTAzsaoPo"
      },
      "execution_count": null,
      "outputs": []
    }
  ]
}